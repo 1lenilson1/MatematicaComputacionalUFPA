{
 "cells": [
  {
   "cell_type": "code",
   "execution_count": 2,
   "metadata": {
    "collapsed": false
   },
   "outputs": [
    {
     "name": "stdout",
     "output_type": "stream",
     "text": [
      "turmaB\n",
      "O Escolhido:  RENATO JOSE LIMA MOTA\n",
      "\n"
     ]
    }
   ],
   "source": [
    "import numpy as np\n",
    "pathFileImages = 'C:/Users/claud/Dropbox/RepoGit/Disciplina/Matemática Computacional/PythonParaDisciplina/'\n",
    "\n",
    "turma = 'B'\n",
    "\n",
    "print('turma' + turma)\n",
    "\n",
    "if turma == 'A':\n",
    "    listOfNames = [ ]\n",
    "    with open( pathFileImages + 'turma' + turma + '.txt' ) as names:\n",
    "        for line in names: \n",
    "            listOfNames.append( line )\n",
    "elif turma == 'B':\n",
    "    listOfNames = [ ]\n",
    "    with open( pathFileImages + 'turma' + turma + '.txt' ) as names:\n",
    "        for line in names: \n",
    "            listOfNames.append( line )\n",
    "else:\n",
    "    print('Error: escolha a turma correta.')\n",
    "\n",
    "print('O Escolhido: ', np.random.choice( listOfNames ))\n"
   ]
  },
  {
   "cell_type": "code",
   "execution_count": 3,
   "metadata": {
    "collapsed": false
   },
   "outputs": [
    {
     "name": "stdout",
     "output_type": "stream",
     "text": [
      "ACZA LIRA SILVA\n",
      "ADIEL DOS SANTOS NASCIMENTO\n",
      "AIAN SHAY BENTES DAMASCENO CARDOSO\n",
      "AILTON DE JESUS SILVA\n",
      "ALAN WALACE SILVA CORREA\n",
      "ALBERTO DA CRUZ LIMA SOBRINHO\n",
      "ANA VITORIA DE BACELAR MACHADO E SILVA\n",
      "ARTHUR TAKESHI NORONHA YOSHIKAWA\n",
      "BRENDO VIEIRA DE FREITAS\n",
      "CAIO COUTO PINTO DA SILVA\n",
      "EDSON DE JESUS RODRIGUES GONCALVES\n",
      "FABIO DE SOUZA MIRANDA\n",
      "FABRICIO DE SOUZA MIRANDA\n",
      "FELIPE DE MELO RODRIGUES E OLIVEIRA\n",
      "FILIPE COELHO DE SOUSA\n",
      "GILBERTO FRANCO DE OLIVEIRA\n",
      "HENRIQUE SALES DA PONTE\n",
      "ISABELA LOPES MAUES BATISTA\n",
      "ISRAEL SEWANOU HOUNSOU\n",
      "ITALO MARTINS COSTA\n",
      "JOAO MARCELO FREITAS DE ALMEIDA\n",
      "JOAO VICTOR DA SILVA DIAS CANAVARRO\n",
      "JOAQUIM CASTILHO DA SILVA NETO\n",
      "JOHABE NOVAES MARQUES\n",
      "JONATAS TIAGO ALBUQUERQUE DE MORAES\n",
      "JOSE DE SENNA PEREIRA NETO\n",
      "KALED PENANTE NASCIMENTO MACIEL\n",
      "LENILSON CORREA SANTOS\n",
      "LEON HENRIQUE CARVALHO DE JESUS\n",
      "LUAN QUADROS ARACATY\n",
      "LUIZ CARLOS MUNIZ COELHO JUNIOR\n",
      "MADSON WARLINGTON SOUZA DE SOUSA\n",
      "MAURICIO PINHEIRO BARROSO\n",
      "NECY DE NAZARE CORREA TRINDADE\n",
      "PAULO DURVAL LOBATO CARVALHO\n",
      "PEDRO VICTOR AROUCK MELO\n",
      "RAPHAEL CAMILO GOMES CAMARA\n",
      "RENAN FONSECA CUNHA\n",
      "RENAN LOBO DUARTE\n",
      "RENAN PEREIRA MELLO\n",
      "RENAN RAMOS RODRIGUES\n",
      "RENATO JOSE LIMA MOTA\n",
      "RENICK MULLER TEIXEIRA COSTA\n",
      "RONALDD PATRIK SILVA PINHO\n",
      "SANDY ANDRADE FARO\n",
      "TUBY D OLIVEIRA NETO\n",
      "VICTOR DANIEL GAIA SANTOS DOS SANTOS\n",
      "VITOR NOVAES CANTAO\n",
      "WAGNER FELIDRE NEGRAO DA SILVA\n",
      "YANN FABRICIO CARDOSO DE FIGUEIREDO\n",
      "\n"
     ]
    }
   ],
   "source": [
    "file = open(pathFileImages + \"NomesAlunos.txt\", \"r\") \n",
    "print( file.read( ) )"
   ]
  }
 ],
 "metadata": {
  "kernelspec": {
   "display_name": "Python 3",
   "language": "python",
   "name": "python3"
  },
  "language_info": {
   "codemirror_mode": {
    "name": "ipython",
    "version": 3
   },
   "file_extension": ".py",
   "mimetype": "text/x-python",
   "name": "python",
   "nbconvert_exporter": "python",
   "pygments_lexer": "ipython3",
   "version": "3.6.0"
  }
 },
 "nbformat": 4,
 "nbformat_minor": 2
}
